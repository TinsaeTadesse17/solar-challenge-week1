{
 "cells": [
  {
   "cell_type": "code",
   "execution_count": 15,
   "id": "1a458997",
   "metadata": {},
   "outputs": [],
   "source": [
    "import pandas as pd\n",
    "import seaborn as sns\n",
    "import matplotlib.pyplot as plt\n",
    "from scipy.stats import f_oneway, kruskal"
   ]
  },
  {
   "cell_type": "code",
   "execution_count": 16,
   "id": "a561250f",
   "metadata": {},
   "outputs": [],
   "source": [
    "# Load cleaned data\n",
    "benin_df = pd.read_csv(\"../data/benin_clean.csv\")\n",
    "sierraleone_df = pd.read_csv(\"../data/sierraleone_clean.csv\")\n",
    "togo_df = pd.read_csv(\"../data/togo_clean.csv\")\n",
    "\n",
    "# Ensure Timestamp column is in datetime format\n",
    "for df in [benin_df, sierraleone_df, togo_df]:\n",
    "    df['Timestamp'] = pd.to_datetime(df['Timestamp'])\n",
    "\n",
    "# Define daytime filter (6 AM to 6 PM)\n",
    "def filter_daytime_hours(df):\n",
    "    df['Hour'] = df['Timestamp'].dt.hour\n",
    "    return df[(df['Hour'] >= 6) & (df['Hour'] <= 18)].copy()  \n",
    "\n",
    "# Apply filter\n",
    "benin_df = filter_daytime_hours(benin_df)\n",
    "sierraleone_df = filter_daytime_hours(sierraleone_df)\n",
    "togo_df = filter_daytime_hours(togo_df)\n",
    "\n",
    "# Add country labels\n",
    "benin_df['Country'] = 'Benin'\n",
    "sierraleone_df['Country'] = 'Sierra Leone'\n",
    "togo_df['Country'] = 'Togo'\n",
    "\n",
    "# Combine dataframes\n",
    "combined_df = pd.concat([benin_df, sierraleone_df, togo_df], ignore_index=True)\n"
   ]
  },
  {
   "cell_type": "code",
   "execution_count": 17,
   "id": "d96a7db8",
   "metadata": {},
   "outputs": [
    {
     "data": {
      "image/png": "[encoded data removed]",
      "text/plain": [
       "<Figure size 1500x500 with 3 Axes>"
      ]
     },
     "metadata": {},
     "output_type": "display_data"
    }
   ],
   "source": [
    "# Boxplot for GHI, DNI, and DHI\n",
    "metrics = ['GHI', 'DNI', 'DHI']\n",
    "plt.figure(figsize=(15, 5))\n",
    "\n",
    "for i, metric in enumerate(metrics):\n",
    "    plt.subplot(1, 3, i + 1)\n",
    "    sns.boxplot(x='Country', y=metric, data=combined_df, palette='pastel', hue=combined_df['Country'])\n",
    "    plt.title(f'{metric} Distribution')\n",
    "    plt.xlabel('')\n",
    "    plt.ylabel(metric)\n",
    "\n",
    "plt.tight_layout()\n",
    "plt.show()\n"
   ]
  },
  {
   "cell_type": "code",
   "execution_count": 18,
   "id": "25ccd03d",
   "metadata": {},
   "outputs": [
    {
     "name": "stdout",
     "output_type": "stream",
     "text": [
      "Summary Statistics for GHI, DNI, and DHI:\n"
     ]
    },
    {
     "data": {
      "text/html": [
       "<div>\n",
       "<style scoped>\n",
       "    .dataframe tbody tr th:only-of-type {\n",
       "        vertical-align: middle;\n",
       "    }\n",
       "\n",
       "    .dataframe tbody tr th {\n",
       "        vertical-align: top;\n",
       "    }\n",
       "\n",
       "    .dataframe thead tr th {\n",
       "        text-align: left;\n",
       "    }\n",
       "</style>\n",
       "<table border=\"1\" class=\"dataframe\">\n",
       "  <thead>\n",
       "    <tr>\n",
       "      <th></th>\n",
       "      <th colspan=\"3\" halign=\"left\">Benin</th>\n",
       "      <th colspan=\"3\" halign=\"left\">Sierra Leone</th>\n",
       "      <th colspan=\"3\" halign=\"left\">Togo</th>\n",
       "    </tr>\n",
       "    <tr>\n",
       "      <th></th>\n",
       "      <th>GHI</th>\n",
       "      <th>DNI</th>\n",
       "      <th>DHI</th>\n",
       "      <th>GHI</th>\n",
       "      <th>DNI</th>\n",
       "      <th>DHI</th>\n",
       "      <th>GHI</th>\n",
       "      <th>DNI</th>\n",
       "      <th>DHI</th>\n",
       "    </tr>\n",
       "  </thead>\n",
       "  <tbody>\n",
       "    <tr>\n",
       "      <th>mean</th>\n",
       "      <td>441.59</td>\n",
       "      <td>310.62</td>\n",
       "      <td>210.53</td>\n",
       "      <td>353.70</td>\n",
       "      <td>196.71</td>\n",
       "      <td>208.86</td>\n",
       "      <td>419.37</td>\n",
       "      <td>275.79</td>\n",
       "      <td>210.13</td>\n",
       "    </tr>\n",
       "    <tr>\n",
       "      <th>median</th>\n",
       "      <td>422.50</td>\n",
       "      <td>267.80</td>\n",
       "      <td>197.70</td>\n",
       "      <td>304.00</td>\n",
       "      <td>47.60</td>\n",
       "      <td>206.10</td>\n",
       "      <td>382.30</td>\n",
       "      <td>187.60</td>\n",
       "      <td>196.40</td>\n",
       "    </tr>\n",
       "    <tr>\n",
       "      <th>std</th>\n",
       "      <td>330.10</td>\n",
       "      <td>287.95</td>\n",
       "      <td>149.62</td>\n",
       "      <td>293.72</td>\n",
       "      <td>240.70</td>\n",
       "      <td>151.46</td>\n",
       "      <td>324.34</td>\n",
       "      <td>281.25</td>\n",
       "      <td>149.59</td>\n",
       "    </tr>\n",
       "  </tbody>\n",
       "</table>\n",
       "</div>"
      ],
      "text/plain": [
       "         Benin                 Sierra Leone                    Togo          \\\n",
       "           GHI     DNI     DHI          GHI     DNI     DHI     GHI     DNI   \n",
       "mean    441.59  310.62  210.53       353.70  196.71  208.86  419.37  275.79   \n",
       "median  422.50  267.80  197.70       304.00   47.60  206.10  382.30  187.60   \n",
       "std     330.10  287.95  149.62       293.72  240.70  151.46  324.34  281.25   \n",
       "\n",
       "                \n",
       "           DHI  \n",
       "mean    210.13  \n",
       "median  196.40  \n",
       "std     149.59  "
      ]
     },
     "execution_count": 18,
     "metadata": {},
     "output_type": "execute_result"
    }
   ],
   "source": [
    "# summary statistics for each country\n",
    "summary_benin = benin_df[['GHI', 'DNI', 'DHI']].agg(['mean', 'median', 'std']).round(2)\n",
    "summary_sierraleone = sierraleone_df[['GHI', 'DNI', 'DHI']].agg(['mean', 'median', 'std']).round(2)\n",
    "summary_togo = togo_df[['GHI', 'DNI', 'DHI']].agg(['mean', 'median', 'std']).round(2)\n",
    "\n",
    "# Combine summaries into a single DataFrame for better comparision\n",
    "summary_combined = pd.concat({\n",
    "    'Benin': summary_benin,\n",
    "    'Sierra Leone': summary_sierraleone,\n",
    "    'Togo': summary_togo\n",
    "}, axis=1)\n",
    "\n",
    "# display the summary statistics\n",
    "print(\"Summary Statistics for GHI, DNI, and DHI:\")\n",
    "summary_combined\n"
   ]
  },
  {
   "cell_type": "code",
   "execution_count": 19,
   "id": "95b87afe",
   "metadata": {},
   "outputs": [
    {
     "name": "stdout",
     "output_type": "stream",
     "text": [
      "ANOVA p-value: 0.00000\n",
      "Significant differences in GHI between countries (p < 0.05)\n"
     ]
    }
   ],
   "source": [
    "# Extract GHI values for each country\n",
    "ghi_benin = benin_df['GHI']\n",
    "ghi_sierraleone = sierraleone_df['GHI']\n",
    "ghi_togo = togo_df['GHI']\n",
    "\n",
    "# One-Way ANOVA Test\n",
    "anova_stat, anova_p = f_oneway(ghi_benin, ghi_sierraleone, ghi_togo)\n",
    "\n",
    "print(f\"ANOVA p-value: {anova_p:.5f}\")\n",
    "if anova_p < 0.05:\n",
    "    print(\"Significant differences in GHI between countries (p < 0.05)\")\n",
    "else:\n",
    "    print(\"No significant differences in GHI (p >= 0.05)\")\n"
   ]
  },
  {
   "cell_type": "code",
   "execution_count": 20,
   "id": "0d9eda34",
   "metadata": {},
   "outputs": [
    {
     "name": "stdout",
     "output_type": "stream",
     "text": [
      "Kruskal-Wallis p-value: 0.00000\n",
      "Significant differences in GHI between countries (p < 0.05)\n"
     ]
    }
   ],
   "source": [
    "# kruskal-wallis test\n",
    "kruskal_stat, kruskal_p = kruskal(ghi_benin, ghi_sierraleone, ghi_togo)\n",
    "\n",
    "print(f\"Kruskal-Wallis p-value: {kruskal_p:.5f}\")\n",
    "if kruskal_p < 0.05:\n",
    "    print(\"Significant differences in GHI between countries (p < 0.05)\")\n",
    "else:\n",
    "    print(\"No significant differences in GHI (p >= 0.05)\")\n"
   ]
  },
  {
   "cell_type": "markdown",
   "id": "cec66841",
   "metadata": {},
   "source": [
    "### Key Observations\n",
    "\n",
    "* **Benin** shows the **highest median GHI (422.50)** and **highest mean DNI (310.62)** among the three, indicating strong and relatively consistent solar irradiance. This suggests **favorable conditions for solar energy** generation.\n",
    "\n",
    "* **Sierra Leone** has the **lowest median DNI (47.60)**, implying **significantly lower direct sunlight** exposure—possibly due to persistent cloud cover. Interestingly, it still maintains a **moderate median DHI (206.10)**, which supports this interpretation as diffuse light increases with cloudiness.\n",
    "\n",
    "* **Togo** exhibits **moderate solar irradiance levels** but has the **highest variability in DNI (std = 281.25)** and **substantial GHI fluctuation (std = 324.34)**. This suggests **less predictability** in solar availability, which could affect planning and reliability for solar energy systems.\n"
   ]
  },
  {
   "cell_type": "code",
   "execution_count": 21,
   "id": "00221561",
   "metadata": {},
   "outputs": [
    {
     "data": {
      "image/png": "[encoded data removed]",
      "text/plain": [
       "<Figure size 600x400 with 1 Axes>"
      ]
     },
     "metadata": {},
     "output_type": "display_data"
    }
   ],
   "source": [
    "# Calculate average GHI for each country\n",
    "avg_ghi = {\n",
    "    \"Benin\": summary_benin[\"GHI\"][\"mean\"],\n",
    "    \"Sierra Leone\": summary_sierraleone[\"GHI\"][\"mean\"],\n",
    "    \"Togo\": summary_togo[\"GHI\"][\"mean\"]\n",
    "}\n",
    "\n",
    "# Sort countries by average GHI\n",
    "sorted_avg_ghi = dict(sorted(avg_ghi.items(), key=lambda item: item[1], reverse=True))\n",
    "\n",
    "# Plot the bar chart\n",
    "plt.figure(figsize=(6, 4))\n",
    "plt.bar(sorted_avg_ghi.keys(), sorted_avg_ghi.values(), color=[\"orange\", \"skyblue\", \"lightgreen\"])\n",
    "plt.title(\"Average GHI by Country\")\n",
    "plt.ylabel(\"Global Horizontal Irradiance (W/m²)\")\n",
    "plt.xlabel(\"Country\")\n",
    "plt.tight_layout()\n",
    "plt.show()"
   ]
  }
 ],
 "metadata": {
  "kernelspec": {
   "display_name": ".venv",
   "language": "python",
   "name": "python3"
  },
  "language_info": {
   "codemirror_mode": {
    "name": "ipython",
    "version": 3
   },
   "file_extension": ".py",
   "mimetype": "text/x-python",
   "name": "python",
   "nbconvert_exporter": "python",
   "pygments_lexer": "ipython3",
   "version": "3.12.10"
  }
 },
 "nbformat": 4,
 "nbformat_minor": 5
}
